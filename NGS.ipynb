{
  "nbformat": 4,
  "nbformat_minor": 0,
  "metadata": {
    "colab": {
      "name": "NGS",
      "provenance": [],
      "collapsed_sections": [],
      "authorship_tag": "ABX9TyNLisnmN+zI+aN/J0DLeM8H",
      "include_colab_link": true
    },
    "kernelspec": {
      "name": "ir",
      "display_name": "R"
    },
    "language_info": {
      "name": "R"
    }
  },
  "cells": [
    {
      "cell_type": "markdown",
      "metadata": {
        "id": "view-in-github",
        "colab_type": "text"
      },
      "source": [
        "<a href=\"https://colab.research.google.com/github/fphans/BIDS-NGS/blob/main/NGS.ipynb\" target=\"_parent\"><img src=\"https://colab.research.google.com/assets/colab-badge.svg\" alt=\"Open In Colab\"/></a>"
      ]
    },
    {
      "cell_type": "code",
      "metadata": {
        "colab": {
          "base_uri": "https://localhost:8080/"
        },
        "id": "1LV7BHxOXSZg",
        "outputId": "70a0df4e-f1ec-4952-c0bc-ed38ad963c3e"
      },
      "source": [
        "install.packages(\"googledrive\")\n",
        "library(\"googledrive\")"
      ],
      "execution_count": 5,
      "outputs": [
        {
          "output_type": "stream",
          "text": [
            "Installing package into ‘/usr/local/lib/R/site-library’\n",
            "(as ‘lib’ is unspecified)\n",
            "\n"
          ],
          "name": "stderr"
        }
      ]
    },
    {
      "cell_type": "code",
      "metadata": {
        "id": "lWu5sUvhcgyr"
      },
      "source": [
        "#mount drive to access data\n",
        "from google.colab import drive \n",
        "drive.mount(\"/content/gdrive\", force_remount=True)"
      ],
      "execution_count": null,
      "outputs": []
    },
    {
      "cell_type": "markdown",
      "metadata": {
        "id": "ae3HKoPpZNk3"
      },
      "source": [
        "RNA Seq Analyse\n",
        "Datum: 18.06.2021\n",
        "Autor: Patrick Metzger\n",
        "\n",
        "# Introduction\n",
        "\n",
        "Wir bitten Sie hier, die grundlegenden Schritte einer RNA-Sequenzierungs-Analyse durchzuführen. Wir stellen Ihnen bereits die zum menschlichen Referenzgenom zugeordneten (aligned) Reads zur Verfügung, d.h. Ihr Ausgangspunkt sind die 'Counts' für jede Probe. Zusammen mit den Counts (*_ReadsPerGene.out.tab) stellen wir Ihnen die Annotationstabelle (targets.xlsx) zur Verfügung, die die Proben-IDs mit den tatsächlichen biologischen Bedingungen und \"Real-World-Proben\" verknüpft. Das Ziel der Studie ist es, den Einfluss einer KLF7-Überexpression zu identifizieren. \n",
        "\n",
        "Dazu wurde die Zelllinie so modifiziert, dass sie KLF7 Überexprimiert. Als Kontrolle wurde die unbehandelte Zelllinie verwendet. Die Überexprimierende Bedingung ist mit \"*_KLF7\" und die Kontrolle mit \"*_LV\" beschriftet. LV steht hier für \"Leervektor\".\n",
        "\n",
        "Ihre Aufgabe ist es nun, die signifikant veränderten Gene (in Bezug auf die Genexpression) zwischen den behandelten Proben (KLF7) und der unbehandelten Kontrolle (LV) zu identifizieren. Dazu muss eine Analyse der differentiell exprimierten Gene (diffenretially expressed genes DEG) durchgeführt werden. Im folgenden Skript geben wir Ihnen dazu einige Hinweise und Hilfestellungen."
      ]
    },
    {
      "cell_type": "markdown",
      "metadata": {
        "id": "DdPkM1ElZruP"
      },
      "source": [
        "# Die folgenden Schritte werden abgedeckt\n",
        "\n",
        "1. die Zähldaten müssen importiert werden\n",
        "2. die Proben mit den biologischen Bedingungen verknüpfen\n",
        "3. eine Meta-Tabelle mit allen gemessenen Genen und allen verfügbaren Gen-Identifikatoren erzeugen\n",
        "4. eine Hauptkomponentenanalyse (PCA) berechnen, um einen ersten Überblick über den Datensatz zu erhalten\n",
        "5. führen Sie die eigentliche DEG-Analyse durch. Wie viele Gene sind signifikant verändert bis zu einem korrigiertem p-Wert < 0,05; Wie viele davon sind hoch- bzw. herunterreguliert?\n",
        "6. visualisieren und exportieren Sie Ihre Ergebnisse\n",
        "7. erzeugen Sie Heatmaps der hochvariablen Gene"
      ]
    },
    {
      "cell_type": "markdown",
      "metadata": {
        "id": "p5lOMQ2uZ0OO"
      },
      "source": [
        "## Nützliche Befehle\n",
        "\n",
        "head()  \n",
        "?functionName or help()  \n",
        "install.packages()  \n",
        "accessing columns by name, e.g. `result$padj filter data.frame`, e.g. `res[res$test > 5,]` the output contains all columns of res but only the rows fulfilling that the value within the \"test\" column contains a value bigger than 5  \n",
        "dim()  \n",
        "length()  \n",
        "is.na() / !is.na()  "
      ]
    },
    {
      "cell_type": "markdown",
      "metadata": {
        "id": "lzqrsgruaxD7"
      },
      "source": [
        "## Nützliche Links #\n",
        "\n",
        "links / tutorials / vignettes  \n",
        "https://www.bioconductor.org/install/  \n",
        "https://bioconductor.org/packages/release/bioc/html/DESeq2.html  \n",
        "https://cran.r-project.org/web/packages/FactoMineR/index.html  \n",
        "https://ggplot2.tidyverse.org ; https://cran.r-project.org/web/packages/ggplot2/index.html  \n",
        "https://cran.r-project.org/web/packages/ggrepel/vignettes/ggrepel.html  \n",
        "https://bioconductor.org/packages/release/bioc/html/genefilter.html  "
      ]
    },
    {
      "cell_type": "code",
      "metadata": {
        "colab": {
          "base_uri": "https://localhost:8080/"
        },
        "id": "x5rOvbFnWlwx",
        "outputId": "814d439c-c84d-4d54-fe09-7ad24c90ff68"
      },
      "source": [
        "#############\n",
        "# Libraries #\n",
        "# used packages\n",
        "# if not installed please install with either bioconductor BiocManager::install() (see useful links) or install.packages()\n",
        "\n",
        "if (!requireNamespace(\"BiocManager\", quietly = TRUE))\n",
        "  install.packages(\"BiocManager\")\n",
        "BiocManager::install(version = \"3.13\")\n",
        "if (!requireNamespace(\"BiocManager\", quietly = TRUE))\n",
        "  install.packages(\"BiocManager\")\n",
        "BiocManager::install(\"Pakete\")\n",
        "BiocManager::install(\"DESeq2\")\n",
        "BiocManager::install(c('pheatmap','openxlsx','org.Hs.eg.db','ggplot2','genefilter','FactoMineR','ggrepel','apeglm','ggrepel','genefilter'))\n",
        "\n",
        "library(DESeq2)\n",
        "library(openxlsx)\n",
        "library(pheatmap)\n",
        "library(org.Hs.eg.db)\n",
        "library(ggplot2)\n",
        "library(genefilter)\n",
        "library(FactoMineR)\n",
        "library(ggrepel)\n",
        "library(apeglm)\n",
        "library(ggrepel)\n",
        "library(genefilter)\n",
        "\n",
        "# Define Working Directory\n",
        "setwd(\"~/R/bi\") # change according to were you put the data"
      ],
      "execution_count": null,
      "outputs": [
        {
          "output_type": "stream",
          "text": [
            "'getOption(\"repos\")' replaces Bioconductor standard repositories, see\n",
            "'?repositories' for details\n",
            "\n",
            "replacement repositories:\n",
            "    CRAN: https://cran.rstudio.com\n",
            "\n",
            "\n",
            "Bioconductor version 3.13 (BiocManager 1.30.16), R 4.1.0 (2021-05-18)\n",
            "\n",
            "Old packages: 'broom', 'colorspace', 'curl', 'dplyr', 'gert', 'ggplot2',\n",
            "  'mime', 'openssl', 'rmarkdown', 'testthat', 'xfun'\n",
            "\n",
            "'getOption(\"repos\")' replaces Bioconductor standard repositories, see\n",
            "'?repositories' for details\n",
            "\n",
            "replacement repositories:\n",
            "    CRAN: https://cran.rstudio.com\n",
            "\n",
            "\n",
            "Bioconductor version 3.13 (BiocManager 1.30.16), R 4.1.0 (2021-05-18)\n",
            "\n",
            "Installing package(s) 'Pakete'\n",
            "\n",
            "Warning message in .inet_warning(msg):\n",
            "“package ‘Pakete’ is not available for Bioconductor version '3.13'\n",
            "\n",
            "A version of this package for your version of R might be available elsewhere,\n",
            "see the ideas at\n",
            "https://cran.r-project.org/doc/manuals/r-patched/R-admin.html#Installing-packages”\n",
            "Old packages: 'broom', 'colorspace', 'curl', 'dplyr', 'gert', 'ggplot2',\n",
            "  'mime', 'openssl', 'rmarkdown', 'testthat', 'xfun'\n",
            "\n",
            "'getOption(\"repos\")' replaces Bioconductor standard repositories, see\n",
            "'?repositories' for details\n",
            "\n",
            "replacement repositories:\n",
            "    CRAN: https://cran.rstudio.com\n",
            "\n",
            "\n",
            "Bioconductor version 3.13 (BiocManager 1.30.16), R 4.1.0 (2021-05-18)\n",
            "\n",
            "Installing package(s) 'DESeq2'\n",
            "\n",
            "also installing the dependencies ‘bit’, ‘bitops’, ‘formatR’, ‘bit64’, ‘plogr’, ‘png’, ‘Biostrings’, ‘RCurl’, ‘GenomeInfoDbData’, ‘zlibbioc’, ‘matrixStats’, ‘lambda.r’, ‘futile.options’, ‘RSQLite’, ‘KEGGREST’, ‘XML’, ‘xtable’, ‘GenomeInfoDb’, ‘XVector’, ‘MatrixGenerics’, ‘DelayedArray’, ‘futile.logger’, ‘snow’, ‘AnnotationDbi’, ‘annotate’, ‘S4Vectors’, ‘IRanges’, ‘GenomicRanges’, ‘SummarizedExperiment’, ‘BiocGenerics’, ‘Biobase’, ‘BiocParallel’, ‘genefilter’, ‘locfit’, ‘geneplotter’, ‘RcppArmadillo’\n",
            "\n",
            "\n"
          ],
          "name": "stderr"
        }
      ]
    }
  ]
}