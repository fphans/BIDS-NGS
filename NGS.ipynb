{
  "nbformat": 4,
  "nbformat_minor": 0,
  "metadata": {
    "colab": {
      "name": "NGS",
      "provenance": [],
      "authorship_tag": "ABX9TyPm7/p/IaDWJiR7LWZzTA4/",
      "include_colab_link": true
    },
    "kernelspec": {
      "name": "ir",
      "display_name": "R"
    },
    "language_info": {
      "name": "R"
    }
  },
  "cells": [
    {
      "cell_type": "markdown",
      "metadata": {
        "id": "view-in-github",
        "colab_type": "text"
      },
      "source": [
        "<a href=\"https://colab.research.google.com/github/fphans/BIDS-NGS/blob/main/NGS.ipynb\" target=\"_parent\"><img src=\"https://colab.research.google.com/assets/colab-badge.svg\" alt=\"Open In Colab\"/></a>"
      ]
    },
    {
      "cell_type": "code",
      "metadata": {
        "colab": {
          "base_uri": "https://localhost:8080/"
        },
        "id": "1LV7BHxOXSZg",
        "outputId": "8eb63687-20c4-413b-d3fc-bb5ac6d47df5"
      },
      "source": [
        "install.packages(\"googledrive\")\n",
        "library(\"googledrive\")"
      ],
      "execution_count": 4,
      "outputs": [
        {
          "output_type": "stream",
          "text": [
            "Installing package into ‘/usr/local/lib/R/site-library’\n",
            "(as ‘lib’ is unspecified)\n",
            "\n"
          ],
          "name": "stderr"
        }
      ]
    },
    {
      "cell_type": "code",
      "metadata": {
        "colab": {
          "base_uri": "https://localhost:8080/",
          "height": 448
        },
        "id": "x5rOvbFnWlwx",
        "outputId": "b7d8af11-2990-4e1b-b925-6486f1bb6a03"
      },
      "source": [
        "###################\n",
        "# RNA Seq Analyse #\n",
        "# Datum: 18.06.2021\n",
        "# Autor: Patrick Metzger\n",
        "\n",
        "################\n",
        "# Introduction #\n",
        "\n",
        "# Wir bitten Sie hier, die grundlegenden Schritte einer RNA-Sequenzierungs-Analyse durchzufÃ¼hren.\n",
        "# Wir stellen Ihnen bereits die zum menschlichen Referenzgenom zugeordneten (aligned) Reads zur VerfÃ¼gung,\n",
        "# d.h. Ihr Ausgangspunkt sind die âCountsâ fÃ¼r jede Probe. Zusammen mit den Counts (*_ReadsPerGene.out.tab) stellen wir Ihnen die\n",
        "# Annotationstabelle (targets.xlsx) zur VerfÃ¼gung, die die Proben-IDs mit den tatsÃ¤chlichen biologischen Bedingungen und\n",
        "# \"Real-World-Proben\" verknÃ¼pft. Der Datensatz stammt aus einem realen wissenschaftlichen Projekt, an dem\n",
        "# wir hier in Freiburg gearbeitet haben. Die DatensÃ¤tze enthalten Counts von einer einzelnen Zelllinie, nÃ¤mlich MiaPaCa2 (Pankreas),\n",
        "# und zwei biologischen Bedingungen. Das Ziel der Studie ist es, den Einfluss einer KLF7-Ãberexpression zu identifizieren.\n",
        "# Dazu wurde die Zelllinie so modifiziert, dass sie KLF7 Ã¼berexprimiert. Als Kontrolle wurde die unbehandelte Zelllinie verwendet.\n",
        "# Die Ã¼berexprimierende Bedingung ist mit \"*_KLF7\" und die Kontrolle mit \"*_LV\" beschriftet. LV steht hier fÃ¼r \"Leervektor\".\n",
        "# Ihre Aufgabe ist es nun, die signifikant verÃ¤nderten Gene (in Bezug auf die Genexpression) zwischen den behandelten Proben (KLF7)\n",
        "# und der unbehandelten Kontrolle (LV) zu identifizieren. Dazu muss eine Analyse der differentiell exprimierten Gene\n",
        "# (diffenretially expressed genes DEG) durchgefÃ¼hrt werden. Im folgenden Skript geben wir Ihnen dazu einige Hinweise und Hilfestellungen.\n",
        "\n",
        "# Die folgenden Schritte werden abgedeckt\n",
        "\n",
        "# 1. die ZÃ¤hldaten mÃ¼ssen importiert werden\n",
        "# 2. die Proben mit den biologischen Bedingungen verknÃ¼pfen\n",
        "# 3. eine Meta-Tabelle mit allen gemessenen Genen und allen verfÃ¼gbaren Gen-Identifikatoren erzeugen\n",
        "# 4. eine Hauptkomponentenanalyse (PCA) berechnen, um einen ersten Ãberblick Ã¼ber den Datensatz zu erhalten\n",
        "# 5. fÃ¼hren Sie die eigentliche DEG-Analyse durch. Wie viele Gene sind signifikant verÃ¤ndert bis zu einem korrigiertem p-Wert < 0,05; Wie viele davon sind hoch- bzw. herunterreguliert?\n",
        "# 6. visualisieren und exportieren Sie Ihre Ergebnisse\n",
        "# 7. erzeugen Sie Heatmaps der hochvariablen Gene\n",
        "\n",
        "\n",
        "#####################\n",
        "# NÃ¼tzliche Befehle #\n",
        "\n",
        "# head()\n",
        "# ?functionName or help()\n",
        "# install.packages()\n",
        "# accessing columns by name, e.g. result$padj\n",
        "# filter data.frame, e.g. res[res$test > 5,] the output contains all columns of res but only the rows fulfilling that the value within the \"test\" column contains a value bigger than 5\n",
        "# dim()\n",
        "# length()\n",
        "# is.na() / !is.na()\n",
        "\n",
        "###################\n",
        "# NÃ¼tzliche Links #\n",
        "\n",
        "# links / tutorials / vignettes\n",
        "# https://www.bioconductor.org/install/\n",
        "# https://bioconductor.org/packages/release/bioc/html/DESeq2.html\n",
        "# https://cran.r-project.org/web/packages/FactoMineR/index.html\n",
        "# https://ggplot2.tidyverse.org ; https://cran.r-project.org/web/packages/ggplot2/index.html\n",
        "# https://cran.r-project.org/web/packages/ggrepel/vignettes/ggrepel.html\n",
        "# https://bioconductor.org/packages/release/bioc/html/genefilter.html\n",
        "\n",
        "#############\n",
        "# Libraries #\n",
        "\n",
        "# used packages\n",
        "# if not installed please install with either bioconductor BiocManager::install() (see useful links) or install.packages()\n",
        "\n",
        "if (!requireNamespace(\"BiocManager\", quietly = TRUE))\n",
        "  install.packages(\"BiocManager\")\n",
        "BiocManager::install(version = \"3.13\")\n",
        "if (!requireNamespace(\"BiocManager\", quietly = TRUE))\n",
        "  install.packages(\"BiocManager\")\n",
        "#BiocManager::install(\"Pakete\")\n",
        "#BiocManager::install(\"DESeq2\")\n",
        "#BiocManager::install(c('pheatmap','openxlsx','org.Hs.eg.db','ggplot2','genefilter','FactoMineR','ggrepel','apeglm','ggrepel','genefilter'))\n",
        "\n",
        "library(DESeq2)\n",
        "library(openxlsx)\n",
        "library(pheatmap)\n",
        "library(org.Hs.eg.db)\n",
        "library(ggplot2)\n",
        "library(genefilter)\n",
        "library(FactoMineR)\n",
        "library(ggrepel)\n",
        "library(apeglm)\n",
        "library(ggrepel)\n",
        "library(genefilter)\n",
        "\n",
        "# Define Working Directory\n",
        "setwd(\"~/R/bi\") # change according to were you put the data"
      ],
      "execution_count": 2,
      "outputs": [
        {
          "output_type": "stream",
          "text": [
            "Installing package into ‘/usr/local/lib/R/site-library’\n",
            "(as ‘lib’ is unspecified)\n",
            "\n",
            "'getOption(\"repos\")' replaces Bioconductor standard repositories, see\n",
            "'?repositories' for details\n",
            "\n",
            "replacement repositories:\n",
            "    CRAN: https://cran.rstudio.com\n",
            "\n",
            "\n",
            "Bioconductor version 3.13 (BiocManager 1.30.16), R 4.1.0 (2021-05-18)\n",
            "\n",
            "Installing package(s) 'BiocVersion'\n",
            "\n",
            "Old packages: 'broom', 'colorspace', 'curl', 'dplyr', 'gert', 'ggplot2',\n",
            "  'mime', 'openssl', 'rmarkdown', 'testthat', 'xfun'\n",
            "\n"
          ],
          "name": "stderr"
        },
        {
          "output_type": "error",
          "ename": "ERROR",
          "evalue": "ignored",
          "traceback": [
            "Error in library(DESeq2): there is no package called ‘DESeq2’\nTraceback:\n",
            "1. library(DESeq2)"
          ]
        }
      ]
    }
  ]
}